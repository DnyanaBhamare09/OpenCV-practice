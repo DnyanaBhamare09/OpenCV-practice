{
 "cells": [
  {
   "cell_type": "code",
   "execution_count": 1,
   "metadata": {},
   "outputs": [],
   "source": [
    "import numpy as np\n",
    "import cv2"
   ]
  },
  {
   "cell_type": "code",
   "execution_count": 2,
   "metadata": {},
   "outputs": [],
   "source": [
    "# create front face classifier using haar cascade clasiffier\n",
    "face_classifier = cv2.CascadeClassifier(\"haarcascade_frontalface_default.xml\")"
   ]
  },
  {
   "cell_type": "code",
   "execution_count": 3,
   "metadata": {},
   "outputs": [],
   "source": [
    "# Load image\n",
    "input = cv2.imread(\"Trump.jpg\")\n",
    "# convert image into gray scale\n",
    "gray = cv2.cvtColor(input, cv2.COLOR_BGR2GRAY)"
   ]
  },
  {
   "cell_type": "code",
   "execution_count": 6,
   "metadata": {},
   "outputs": [],
   "source": [
    "# face classifier return the co ordinates of face in the form of top left corner point and bottom right corner point\n",
    "# face will return 4 different values co ordinates of face in image i.e. x, y, w, h\n",
    "face =face_classifier.detectMultiScale(gray, 1.3, 5)"
   ]
  },
  {
   "cell_type": "code",
   "execution_count": 7,
   "metadata": {},
   "outputs": [
    {
     "name": "stderr",
     "output_type": "stream",
     "text": [
      "<ipython-input-7-fa92fa8110f0>:2: DeprecationWarning: elementwise comparison failed; this will raise an error in the future.\n",
      "  if face == ():\n"
     ]
    }
   ],
   "source": [
    "# for no face in the image\n",
    "if face == ():\n",
    "    print(\"No face is found\")\n",
    "# creating the rectanle around the face using x and y co ordinates obtained from detectMultiScale\n",
    "# here 127, 01 255 suggest type of color used for rectangle\n",
    "# 2 suggest thickness of a rectangle\n",
    "for (x, y, w, h) in face:\n",
    "    cv2.rectangle(input, (x, y), (x+w, y+h), (127, 0, 255), 2)\n",
    "    cv2.imshow(\"Face detection\", input)\n",
    "    cv2.waitKey(0)\n",
    "cv2.destroyAllWindows()"
   ]
  },
  {
   "cell_type": "code",
   "execution_count": null,
   "metadata": {},
   "outputs": [],
   "source": []
  }
 ],
 "metadata": {
  "kernelspec": {
   "display_name": "Python 3",
   "language": "python",
   "name": "python3"
  },
  "language_info": {
   "codemirror_mode": {
    "name": "ipython",
    "version": 3
   },
   "file_extension": ".py",
   "mimetype": "text/x-python",
   "name": "python",
   "nbconvert_exporter": "python",
   "pygments_lexer": "ipython3",
   "version": "3.8.5"
  }
 },
 "nbformat": 4,
 "nbformat_minor": 4
}
