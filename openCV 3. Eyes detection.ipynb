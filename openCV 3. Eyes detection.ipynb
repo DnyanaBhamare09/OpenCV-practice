{
 "cells": [
  {
   "cell_type": "code",
   "execution_count": 1,
   "metadata": {},
   "outputs": [],
   "source": [
    "import numpy as np\n",
    "import cv2"
   ]
  },
  {
   "cell_type": "code",
   "execution_count": 2,
   "metadata": {},
   "outputs": [],
   "source": [
    "# read the image and convert it into gray scale\n",
    "input = cv2.imread(\"Trump.jpg\")\n",
    "gray = cv2.cvtColor(input, cv2.COLOR_BGR2GRAY)"
   ]
  },
  {
   "cell_type": "code",
   "execution_count": 3,
   "metadata": {},
   "outputs": [],
   "source": [
    "# for detecting the Eyes, first we need to detect the face\n",
    "face_classifier = cv2.CascadeClassifier(\"haarcascade_frontalface_default.xml\")"
   ]
  },
  {
   "cell_type": "code",
   "execution_count": 4,
   "metadata": {},
   "outputs": [],
   "source": [
    "# Create Eye classifier\n",
    "eye_classifier = cv2.CascadeClassifier(\"frontalEyes35x16.xml\")"
   ]
  },
  {
   "cell_type": "code",
   "execution_count": 5,
   "metadata": {},
   "outputs": [],
   "source": [
    "# detect the co ordinates of face\n",
    "face = face_classifier.detectMultiScale(gray, 1.3, 5)"
   ]
  },
  {
   "cell_type": "code",
   "execution_count": 6,
   "metadata": {},
   "outputs": [
    {
     "name": "stderr",
     "output_type": "stream",
     "text": [
      "<ipython-input-6-16bb3d4f360b>:1: DeprecationWarning: elementwise comparison failed; this will raise an error in the future.\n",
      "  if face ==():\n"
     ]
    }
   ],
   "source": [
    "if face ==():\n",
    "    print(\"No face is detected\")"
   ]
  },
  {
   "cell_type": "code",
   "execution_count": 7,
   "metadata": {},
   "outputs": [],
   "source": [
    "for(x, y, w, h) in face:\n",
    "    cv2.rectangle(input, (x, y), (x+w, y+h), (127, 0, 255), 2)\n",
    "    cv2.imshow(\"Image\", input)\n",
    "    cv2.waitKey(0)\n",
    "cv2.destroyAllWindows()"
   ]
  },
  {
   "cell_type": "code",
   "execution_count": 8,
   "metadata": {},
   "outputs": [],
   "source": [
    "# Now we crop the entire image to get just face\n",
    "crop_gray = gray[y:y+h, x:x+w]\n",
    "# create cropped color image\n",
    "crop_color = input[y:y+h, x:x+w]\n",
    "# We see how our cropped image looks like\n",
    "#cv2.imshow(\"crop_gray\", crop_color)\n",
    "#cv2.waitKey(0)\n",
    "#cv2.destroyAllWindows()"
   ]
  },
  {
   "cell_type": "code",
   "execution_count": 10,
   "metadata": {},
   "outputs": [],
   "source": [
    "# Now we detect the eyes from the cropped image\n",
    "eyes = eye_classifier.detectMultiScale(crop_gray)\n",
    "# Draw rectangle around the eyes\n",
    "for (ex, ey, ew, eh) in eyes:\n",
    "    cv2.rectangle(crop_gray, (ex, ey), (ex+ew, ey+eh), (255, 255, 0), 2)\n",
    "    cv2.imshow(\"Eyes\", input)\n",
    "    cv2.waitKey(0)\n",
    "cv2.destroyAllWindows()"
   ]
  },
  {
   "cell_type": "code",
   "execution_count": null,
   "metadata": {},
   "outputs": [],
   "source": []
  }
 ],
 "metadata": {
  "kernelspec": {
   "display_name": "Python 3",
   "language": "python",
   "name": "python3"
  },
  "language_info": {
   "codemirror_mode": {
    "name": "ipython",
    "version": 3
   },
   "file_extension": ".py",
   "mimetype": "text/x-python",
   "name": "python",
   "nbconvert_exporter": "python",
   "pygments_lexer": "ipython3",
   "version": "3.8.5"
  }
 },
 "nbformat": 4,
 "nbformat_minor": 4
}
